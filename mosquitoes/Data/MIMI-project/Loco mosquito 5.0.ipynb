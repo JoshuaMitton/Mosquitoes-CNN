{
 "cells": [
  {
   "cell_type": "markdown",
   "metadata": {},
   "source": [
    "# Loco Mosquito\n",
    "\n",
    "The program that imports the IR spectra of the mosquitoes, cleans them, screens them eliminating the badly measured ones and extracts the most interesting data from them!\n",
    "\n",
    "Written by Mario González Jiménez  \n",
    "School of Chemistry, University of Glasgow  \n",
    "Glasgow G12 8QQ, UK.\n",
    "\n"
   ]
  },
  {
   "cell_type": "markdown",
   "metadata": {},
   "source": [
    "### Changelog\n",
    "\n",
    "- Version 1.0.\n",
    "    - Original Program\n",
    "- Version 1.1\n",
    "    - Adapted for new file names with country code.\n",
    "    - Added code to avoid processing files with wrong names.\n",
    "    - Solved bug in the code that plots a spectrum and the selected wavenumbers.\n",
    "- Version 2.0\n",
    "    - Added an algorithm for being able to read files with names without a country code.\n",
    "    - It plots a bar and whiskers graph with the results of the mosquitoes.\n",
    "    - Added an algorithm to detect when the selected wavenumbers are out of the measured ranges.\n",
    "- Version 3.0\n",
    "    - Supports ``.mzz`` files.\n",
    "- Version 3.1\n",
    "    - Supports the new (after Ifakara meeting) and the old naming systems.\n",
    "    - New wrong-mosquito-stubborn-namer-proof system.\n",
    "    - Included all the modifications from Loco Mosquito \"Mwanga edition\", including the possibility of using two wavenumbers to select ranges instead of individual peaks.\n",
    "    - Corrects the selection of peaks in case they have wavenumbers that are not in the spectral range.\n",
    "- Version 3.2\n",
    "    - Ready for the analysis of a large number of files in different folders.\n",
    "    - Makes a list with the files with wrong names.\n",
    "- Version 3.3\n",
    "    - Deals with errors in the dates of the mosquitoes.\n",
    "- Version 4.0\n",
    "    - Ignores the name of the ``*.tmp`` file inside the ``*.mzz`` file.\n",
    "    - Discriminates between the rearing conditions of the mosquitoes.\n",
    "    - Includes an algorithm to select what mosquitoes you want to use in the final matrix.\n",
    "- Version 4.1\n",
    "    - Added in tqdm to make use of a progress bar during the long phase of loading in spectra.\n",
    "    - Modified reading the spectra to include the country. Further changes throughout shift the spectral position in the matrices to acommodate the country matrix location.\n",
    "    - Added in a subtotal in the tables with the number of mosquitoes.\n",
    "    - **Version made in collaboration with Joshua Mitton, University of Glasgow**\n",
    "- Version 4.2\n",
    "    - Solved some bugs that affected the code (only in Ifakara).\n",
    "- Version 5.0\n",
    "    - Revised comments to facilitate use of the program (and the acceptance of paper by the editors).\n",
    "    - It is not longer necessary to be careful with the way you introduce the path name. Now it deals with different OS.\n",
    "    - Includes ``Candy 0.0``: the algorithm that compensates the atmosferic intrusion in the spectra that weren't well measured\n",
    "    - Minor changes to the tables with the number of mosquitoes."
   ]
  },
  {
   "cell_type": "markdown",
   "metadata": {},
   "source": [
    "\n",
    "\n",
    "\n",
    "### Useful modules"
   ]
  },
  {
   "cell_type": "markdown",
   "metadata": {},
   "source": [
    "This are the modules that will be used by Loco mosquito"
   ]
  },
  {
   "cell_type": "code",
   "execution_count": 33,
   "metadata": {},
   "outputs": [],
   "source": [
    "#we will use numpy to process the data\n",
    "import numpy as np \n",
    "# to remove the water and carbon dioxide spectra from our data\n",
    "from scipy import optimize\n",
    "\n",
    "# to make the figures\n",
    "import matplotlib.pyplot as plt \n",
    "\n",
    "# to manage the files \n",
    "import os\n",
    "# to deal with file paths on Windows, Mac and Linux\n",
    "from pathlib import Path \n",
    "# to manage the data textfiles\n",
    "import csv \n",
    "# to decompress the mzz files\n",
    "import zipfile \n",
    "import zlib\n",
    "\n",
    "# to control the program execution\n",
    "import time \n",
    "# to know the progress in the slow parts\n",
    "from tqdm import tqdm "
   ]
  },
  {
   "cell_type": "markdown",
   "metadata": {},
   "source": [
    "### Loading the spectra"
   ]
  },
  {
   "cell_type": "markdown",
   "metadata": {},
   "source": [
    "All spectra must be in the ``*.dpt`` format, which is the format Bruker's OPUS program uses to save the data as a text file. Spectra can also be saved as ``*.mzz`` files which is the format we have designed to save spectra as small as possible. The spectra must be sharing a common folder (it doesn't matter if they are organised in subfolders) and with a descriptive name of their status, which must follow the following agreed format:\n",
    "\n",
    "```\n",
    "kk-C-xxD-yy-zz-mm-888888-555555-33.dpt (or *.mzz)\n",
    "```\n",
    "\n",
    "where:\n",
    "\n",
    "* **kk**: Species code\n",
    "    * **AA**: _Anopheles arabiensis_\n",
    "    * **AG**: _Anopheles gambiae_\n",
    "    * **AC**: _Anopheles coluzzi_\n",
    "* **C**: Country code\n",
    "    * **B**: Burkina Faso\n",
    "    * **T**: Tanzania\n",
    "    * **S**: Scotland\n",
    "* **xx**: Age of the mosquito in days\n",
    "* **yy**: Status of the mosquito\n",
    "    * **BF**: Blood fed\n",
    "    * **SF**: Sugar fed\n",
    "    * **UF**: Unfed\n",
    "    * **GR**: Gravid\n",
    "* **zz**: Insecticide resistance\n",
    "    * **RE**: Resistant\n",
    "    * **SU**: Susceptible\n",
    "    * **UN**: Unknown\n",
    "* **mm**: Rear conditions\n",
    "    * **TL**: Time course lab\n",
    "    * **TF**: Time course field\n",
    "    * **VF**: Validation Field\n",
    "    * **RU**: Rear unknown\n",
    "* **888888**: Date the mosquito was measured\n",
    "* **555555**: Date the mosquito was collected\n",
    "* **33**: Mosquito number identifier (ignored during the processing)\n",
    "\n",
    "Although it is also possible to read files with the old naming systems without country code, insecticide resistance, or rear conditions:\n",
    "\n",
    "```\n",
    "kk-xxD-yy-888888-555555-zz.dpt (or *.mzz)\n",
    "```\n",
    "\n",
    "```\n",
    "kk-C-xxD-yy-888888-555555-zz.dpt (or *.mzz)\n",
    "```\n",
    "\n",
    "```\n",
    "kk-C-xxD-yy-zz-888888-555555-zz.dpt (or *.mzz)\n",
    "```"
   ]
  },
  {
   "cell_type": "markdown",
   "metadata": {
    "collapsed": true
   },
   "source": [
    "Here is the algorithm to load the spectra, but first you must indicate the folder location. To do this, the easiest way to proceed is just going to a file in the folder where the spectra are, right-click on it, select properties, and, then, copy the text at the right of \"Location:\". **It is not longer necessary** to add `\\` or `/` at the end of the path."
   ]
  },
  {
   "cell_type": "code",
   "execution_count": 35,
   "metadata": {},
   "outputs": [
    {
     "name": "stdout",
     "output_type": "stream",
     "text": [
      "Please, indicate the folder location: /home/josh/Documents/Mosquito_Project/New_Data/Data/MIMIdata_update_19_02/\n"
     ]
    }
   ],
   "source": [
    "spectra_path = input(\"Please, indicate the folder location: \")"
   ]
  },
  {
   "cell_type": "code",
   "execution_count": 36,
   "metadata": {},
   "outputs": [
    {
     "name": "stderr",
     "output_type": "stream",
     "text": [
      "100%|██████████| 43041/43041 [02:59<00:00, 240.41it/s]"
     ]
    },
    {
     "name": "stdout",
     "output_type": "stream",
     "text": [
      "This last process has lasted 179.552 s. 0 files were not read because their name\n"
     ]
    },
    {
     "name": "stderr",
     "output_type": "stream",
     "text": [
      "\n"
     ]
    }
   ],
   "source": [
    "a = time.time()\n",
    "# we include the path module that helps a lot with the / or \\ problem\n",
    "spectra_path = Path(spectra_path)\n",
    "# find all the .mzz and .dpt files in the folder (and its subfolders)\n",
    "dptfiles = []\n",
    "mzzfiles = []\n",
    "for root, dirs, files in os.walk(spectra_path):\n",
    "    for file in files:\n",
    "        if file.endswith(\".dpt\"):\n",
    "             dptfiles.append(Path(root) / Path(file))\n",
    "        elif file.endswith(\".mzz\"):\n",
    "             mzzfiles.append(Path(root) / Path(file))\n",
    "#If there are *.mzz files, we will not consider the *.dpt files\n",
    "if len(mzzfiles) > 0:\n",
    "    spectra_names = mzzfiles\n",
    "    mzzq = True\n",
    "else:\n",
    "    spectra_names = dptfiles\n",
    "    mzzq = False\n",
    "# we prepare the lists that are going to contain all the info collected\n",
    "matrix = []\n",
    "list_ages = []\n",
    "list_status = []\n",
    "list_species = []\n",
    "list_rear = []\n",
    "list_country = []\n",
    "wrong_named = []\n",
    "# Now we load the spectra in a matrix\n",
    "for i in tqdm(spectra_names):\n",
    "    # To obtain the info from the name of the file, first we split the name in the different sections:\n",
    "    tmp = os.path.basename(i).split(\".\")[0].split(\" \")[0].split(\"-\")\n",
    "    # The first part in all the naming systems is always the species\n",
    "    j = 0\n",
    "    species = tmp[j]\n",
    "    # Species have to be named with two letters. If not we will not consider them:\n",
    "    if len(species) != 2:\n",
    "        wrong_named.append(i)\n",
    "        continue # we don't add this spectrum to the matrix\n",
    "    # if we have passed this test, we check if the specie is already seen\n",
    "    if species in list_species:\n",
    "        pass\n",
    "    else:\n",
    "        list_species.append(species)\n",
    "    # And then we move to the country, then age\n",
    "    j += 1\n",
    "    # If there is the country code, add it\n",
    "    if len(tmp[j]) <= 2:\n",
    "        country = tmp[j]\n",
    "        if country in list_country:\n",
    "            pass\n",
    "        else:\n",
    "            list_country.append(country)\n",
    "        j += 1\n",
    "    # And because there is always somebody that forgets to add the 0 in the ages smaller than 10 days...\n",
    "    if len(tmp[j]) == 2:\n",
    "        age = '0' + tmp[j]\n",
    "    else:\n",
    "        age = tmp[j]\n",
    "    age = age[:2]\n",
    "    # Ages have to be named with three characteres. If not we will not consider them:\n",
    "    if len(age) != 2:\n",
    "        wrong_named.append(i)\n",
    "        continue # we don't add this spectrum to the matrix\n",
    "    if age in list_ages:\n",
    "        pass\n",
    "    else:\n",
    "        list_ages.append(age)\n",
    "    # The next part is the status of the mosquito\n",
    "    j += 1\n",
    "    status = tmp[j]\n",
    "    # To indicate the status, the spectra have to use two letters. If not, we will not consider them:\n",
    "    if len(status) != 2:\n",
    "        wrong_named.append(i)\n",
    "        continue # we don't add this spectrum to the matrix\n",
    "    if status in list_status:\n",
    "        pass\n",
    "    else:\n",
    "        list_status.append(status)\n",
    "    # And the only info left is the collection and measurement dates\n",
    "    j += 1\n",
    "    # Some files include info about insecticide resistance and rear condition. We check if they are stated\n",
    "    if len(tmp[j]) == 2:\n",
    "        # it must start with R or S or U to be be the insecticide resistance (at this moment we dont care about this aspect)\n",
    "        if tmp[j][0] == \"R\" or tmp[j][0] == \"S\" or tmp[j][0] == \"U\":\n",
    "            j += 1\n",
    "            \n",
    "    # Now we check the rearing condition:\n",
    "    if len(tmp[j]) == 2:\n",
    "        rear = tmp[j]\n",
    "        # And then we move to the dates\n",
    "        j += 1\n",
    "    else:\n",
    "        rear = 'RU'\n",
    "        wrong_named.append(i)\n",
    "    # if we have passed this test, we check if the specie is already seen\n",
    "    if rear in list_rear:\n",
    "        pass\n",
    "    else:\n",
    "        list_rear.append(rear)\n",
    "    # Now we check that the dates are well written and if not we discard the file\n",
    "    if len(tmp[j]) != 6:\n",
    "        wrong_named.append(i)\n",
    "        continue\n",
    "    try:\n",
    "        colday = time.mktime(time.strptime(tmp[j],\"%y%m%d\"))\n",
    "    except:\n",
    "        wrong_named.append(i)\n",
    "        continue\n",
    "    j += 1\n",
    "    if len(tmp[j]) != 6:\n",
    "        wrong_named.append(i)\n",
    "        continue\n",
    "    try:\n",
    "        mesday = time.mktime(time.strptime(tmp[j],\"%y%m%d\"))\n",
    "    except:\n",
    "        wrong_named.append(i)\n",
    "        continue\n",
    "    stime = abs((mesday - colday) / (3600 * 24))\n",
    "    # And finally the spectrum and its characteristics\n",
    "    if mzzq == False:\n",
    "        with open(i, 'rb') as tmp:\n",
    "            avmi = (line.replace(b'\\t',b',') for line in tmp)\n",
    "            spectrum = np.genfromtxt(avmi, delimiter=',')\n",
    "        start = spectrum[0,0]\n",
    "        end = spectrum[-1,0]\n",
    "        ls = len(spectrum)\n",
    "        spectrum = np.transpose(spectrum)[1]    \n",
    "    else:\n",
    "        with zipfile.ZipFile(i) as myzip:\n",
    "            tmpname = myzip.namelist()[0]\n",
    "            with myzip.open(tmpname) as myfile:\n",
    "                spectrum = np.genfromtxt(myfile, delimiter=',')\n",
    "        start = spectrum[0]\n",
    "        end = spectrum[1]\n",
    "        ls = int(spectrum[2])\n",
    "        spectrum = spectrum[3:]\n",
    "    matrix.append([species,age,status,country,colday,mesday,rear,stime,[start,end,ls],spectrum])\n",
    "list_species = sorted(list_species)\n",
    "list_ages = sorted(list_ages)\n",
    "list_status = sorted(list_status)\n",
    "list_country = sorted(list_country)\n",
    "list_rear = sorted(list_rear)\n",
    "b = time.time()\n",
    "print(\"This last process has lasted \" + str(round(b-a,3)) + \" s. \" + str(len(wrong_named)) + \" files were not read because their name\")"
   ]
  },
  {
   "cell_type": "code",
   "execution_count": 37,
   "metadata": {},
   "outputs": [
    {
     "data": {
      "text/plain": [
       "[]"
      ]
     },
     "execution_count": 37,
     "metadata": {},
     "output_type": "execute_result"
    }
   ],
   "source": [
    "wrong_named"
   ]
  },
  {
   "cell_type": "code",
   "execution_count": 41,
   "metadata": {},
   "outputs": [
    {
     "name": "stdout",
     "output_type": "stream",
     "text": [
      "43041\n"
     ]
    }
   ],
   "source": [
    "print(len(matrix))"
   ]
  },
  {
   "cell_type": "markdown",
   "metadata": {},
   "source": [
    "The following code allows us to count the number of mosquitoes for each specie, age, and status. "
   ]
  },
  {
   "cell_type": "code",
   "execution_count": 42,
   "metadata": {},
   "outputs": [
    {
     "name": "stdout",
     "output_type": "stream",
     "text": [
      "\n",
      "Time course Field:\n",
      "                                            AA\n",
      "=============================================================================================\n",
      "    01   02   03   04   05   06   07   08   09   10   11   12   13   14   15   16   17  Total\n",
      "---------------------------------------------------------------------------------------------\n",
      "BF   0    0   96  157  101    0    0    0   71   78   71    0    0    0  102  101  101   878\n",
      "GR   0    0    0    0  102  102  101    0    0    0   98  101   91    0    0    0   82   677\n",
      "SF  71   81   95  198  206  259  325  406  303  364  195  286  331  430  312  308  213   4383\n",
      "UN   0    0    0    0    0    0    0    0    0    0    0    0    0    0    0    0    0     0\n",
      "\n",
      "Total AA : 5938\n",
      "                                            AC\n",
      "=============================================================================================\n",
      "    01   02   03   04   05   06   07   08   09   10   11   12   13   14   15   16   17  Total\n",
      "---------------------------------------------------------------------------------------------\n",
      "BF   0    0   51   41    0    0    0    0    0    0   60   45   32   28   39   36   31   363\n",
      "GR   0    0    0    0    0    0    0    0    0    0   33   32   35   30   43   40   49   262\n",
      "SF 101  102   96   71    0    0    0    0    0    0   48   44   43   41   38   35   41   660\n",
      "UN   0    0    0    0    0    0    0    0    0    0    0    0    0    0    0    0    0     0\n",
      "\n",
      "Total AC : 1285\n",
      "                                            AG\n",
      "=============================================================================================\n",
      "    01   02   03   04   05   06   07   08   09   10   11   12   13   14   15   16   17  Total\n",
      "---------------------------------------------------------------------------------------------\n",
      "BF   0    0  210  229  227  259  189  129  121   34   43   26   45   55   63   44   41   1715\n",
      "GR   0    0    0    0    0    0    0    0    0   41   79   42   39   48   59   42   45   395\n",
      "SF 204  212    0    0    0    0    0    0    0   41   98   45   52   91   93   45   44   925\n",
      "UN   0    0    0    0    0    0    0    0    0    0    0    0    0    0    0    0    0     0\n",
      "\n",
      "Total AG : 3035\n",
      "                                                                                             Total: 10258\n",
      "\n",
      "Time course Lab:\n",
      "                                            AA\n",
      "=============================================================================================\n",
      "    01   02   03   04   05   06   07   08   09   10   11   12   13   14   15   16   17  Total\n",
      "---------------------------------------------------------------------------------------------\n",
      "BF  71    0  142  102  166  101  164  101  170  110  202  101   32  102  118  101  157   1940\n",
      "GR   0    0   67    0  170  101  146  101  173  101  189  153  202   98  135  118  193   1947\n",
      "SF 248  101  237  204  348  291  438  495  612  503  471  404  555  518  511  549  418   6903\n",
      "UN   0    0    0    0    0    0    0    0    0    0    0    0    0    0    0    0    0     0\n",
      "\n",
      "Total AA : 10790\n",
      "                                            AC\n",
      "=============================================================================================\n",
      "    01   02   03   04   05   06   07   08   09   10   11   12   13   14   15   16   17  Total\n",
      "---------------------------------------------------------------------------------------------\n",
      "BF   0    0   80   90  136  101   88   81   68   85   83   80   98   81   84  113  129   1397\n",
      "GR   0    0    0    0   62   98   82   39   85   93   86   94   78   78   83   82  113   1073\n",
      "SF 250  186  159  158   97  146  172   98  155  132  174  125  182  128  140  136  234   2672\n",
      "UN   0    0    0    0    0    0    0    0    0    0    0    0    0    0   14    0    0    14\n",
      "\n",
      "Total AC : 5156\n",
      "                                            AG\n",
      "=============================================================================================\n",
      "    01   02   03   04   05   06   07   08   09   10   11   12   13   14   15   16   17  Total\n",
      "---------------------------------------------------------------------------------------------\n",
      "BF   0  134  188  199  186  197  138  173  177  183  181  173  178  182  172  187  174   2822\n",
      "GR   0    0    0   48  194  208  146  186  184  191  182  340  284  133  174  202  184   2656\n",
      "SF 435  344  246  310  290  412  467  590  569  531  507  451  478  544  555  546  555   7830\n",
      "UN   0    0    0    0    0    0    0    0    0    0    0    0    0    0    0    0    0     0\n",
      "\n",
      "Total AG : 13308\n",
      "                                                                                             Total: 29254\n",
      "\n",
      "Validation Field:\n",
      "                                            AA\n",
      "=============================================================================================\n",
      "    01   02   03   04   05   06   07   08   09   10   11   12   13   14   15   16   17  Total\n",
      "---------------------------------------------------------------------------------------------\n",
      "BF   0    0    0    0    0    0    0    0    0    0    0    0    0    0    0    0    0     0\n",
      "GR   0    0    0    0    0    0    0    0    0    0    0    0    0    0    0    0    0     0\n",
      "SF   0    0    0    0    0    0    0    0    0    0    0    0    0    0    0    0    0     0\n",
      "UN 113    0    0  101  136  104  106  102  112  102  106  135  106   98   96    0    0   1417\n",
      "\n",
      "Total AA : 1417\n",
      "                                            AC\n",
      "=============================================================================================\n",
      "    01   02   03   04   05   06   07   08   09   10   11   12   13   14   15   16   17  Total\n",
      "---------------------------------------------------------------------------------------------\n",
      "BF   0    0    0    0    0    0    0    0    0    0    0    0    0    0    0    0    0     0\n",
      "GR   0    0    0    0    0    0    0    0    0    0    0    0    0    0    0    0    0     0\n",
      "SF   0    0    0    0    0    0    0    0    0    0    0    0    0    0    0    0    0     0\n",
      "UN  59    0    0   60    0    0   57    0    0   52    0    0    0    0   20    0    0   248\n",
      "\n",
      "Total AC : 248\n",
      "                                            AG\n",
      "=============================================================================================\n",
      "    01   02   03   04   05   06   07   08   09   10   11   12   13   14   15   16   17  Total\n",
      "---------------------------------------------------------------------------------------------\n",
      "BF   0    0    0    9    0    0    0    0    0    0    0    0    0    0    0    0    0     9\n",
      "GR   0    0    0    0    0    0    0    0    0    0    0    0    0    0    0    0    0     0\n",
      "SF   0    0    0    0    0    0    0    0    0    0    0    0    0    0    0    0    0     0\n",
      "UN 174    0    0  161  111  113  156  119  112  151  101  101  101  101  152  101  101   1855\n",
      "\n",
      "Total AG : 1864\n",
      "                                                                                             Total: 3529\n",
      "\n",
      "\n",
      "=============================================================================================\n",
      "|                               Total mosquitoes: 43041                                    |\n",
      "=============================================================================================\n"
     ]
    }
   ],
   "source": [
    "mos_acc = []\n",
    "for j in range(len(list_rear)):\n",
    "    mos_acc.append(np.zeros((len(list_species),len(list_status),len(list_ages)),dtype=int)) # We create an empty table for the \n",
    "    for i in range(len(matrix)):\n",
    "        if matrix[i][6] == list_rear[j]:\n",
    "            x = list_species.index(matrix[i][0])\n",
    "            y = list_status.index(matrix[i][2])\n",
    "            z = list_ages.index(matrix[i][1])\n",
    "            mos_acc[j][x][y][z] += 1\n",
    "            \n",
    "mos_acc_2 = [np.zeros((len(list_species),len(list_status))) for i in range(3)]\n",
    "for i in range(len(mos_acc)):\n",
    "    for j in range(mos_acc[0].shape[0]):\n",
    "        for k in range(mos_acc[0].shape[1]):\n",
    "            mos_acc_2[i][j][k] = np.sum(mos_acc[i][j][k])\n",
    "\n",
    "# We show it in a beautiful way\n",
    "width = ((len(list_ages) + 2) * 5) - 2\n",
    "print()\n",
    "for j in range(len(list_rear)):\n",
    "    if list_rear[j] == \"TF\":\n",
    "        nare = \"Time course Field:\"\n",
    "    elif list_rear[j] == \"TL\":\n",
    "        nare = \"Time course Lab:\"\n",
    "    elif list_rear[j] == \"VF\":\n",
    "        nare = \"Validation Field:\"\n",
    "    else:\n",
    "        nare = \"Rear Unknown\"\n",
    "    print(nare)\n",
    "    for i in range(mos_acc[j].shape[0]):\n",
    "        print(\" \" * (round(width/2) -2) + list_species[i])\n",
    "        print(\"=\" * width)\n",
    "        print(\"    \"+'   '.join(map(str, list_ages))+\"  \"+'Total') \n",
    "        print(\"-\" * width)\n",
    "        for k in range(mos_acc[j].shape[1]):\n",
    "            print(list_status[k] + \" \" + \"  \".join([\"%3.0f\" % dx for dx in mos_acc[j][i][k]]) + \"   \" + \"\".join(\"%3.0f\" % mos_acc_2[j][i][k]))\n",
    "        print()\n",
    "        print(('Total '+list_species[i]+' : '+str(\"%3.0f\" % np.sum(mos_acc_2[j][i]))))\n",
    "    print(\" \" * width + \"Total: \" + str(np.sum(mos_acc[j])))\n",
    "    print()\n",
    "print()\n",
    "print(\"=\" * width)\n",
    "print(\"|\" + \" \" * (round(width/3)) +   \"Total mosquitoes: \" + str(np.sum(mos_acc)) + \" \" * (round(width/3)+5) + \"|\")\n",
    "print(\"=\" * width)"
   ]
  },
  {
   "cell_type": "markdown",
   "metadata": {},
   "source": [
    "\n",
    "\n",
    "## Detection of spectra with low quality"
   ]
  },
  {
   "cell_type": "markdown",
   "metadata": {},
   "source": [
    "### Spectra with low intensity"
   ]
  },
  {
   "cell_type": "markdown",
   "metadata": {},
   "source": [
    "If the mosquito was not well placed at the ATR's crystal, the intensity of the whole spectrum is small. Our experience says that we can use as reference the small plateau between 400 and 500 wavenumbers that the mosquito spectra usually have. Since the spectrometer with ZnSe optics only can reach to 500 wavenumbers, it doesn't matter if we extend this range to 600 cm<sup>-1</sup>. Then if the average of this reference is smaller than 0.11, the spectrum doesn't have enough quality to be scaled and, then, of course, employed."
   ]
  },
  {
   "cell_type": "code",
   "execution_count": 43,
   "metadata": {},
   "outputs": [
    {
     "name": "stdout",
     "output_type": "stream",
     "text": [
      "993 spectra have been discarded because their low intensity\n"
     ]
    }
   ],
   "source": [
    "# A list of the discarted spectra will be collected:\n",
    "bad_spectra = []\n",
    "for i in range(len(matrix)):\n",
    "    # first we calculate the position of the points that comprise that section of the spectrum\n",
    "    if matrix[i][8][1] < 600 and matrix[i][8][1] > 400:\n",
    "        sta = int(round((((matrix[i][8][2] - 1) / (matrix[i][8][1] - matrix[i][8][0])) * (600 - matrix[i][8][0])) + 1)) - 1\n",
    "        end = matrix[i][8][2]\n",
    "    elif matrix[i][8][1] <= 400:\n",
    "        sta = int(round((((matrix[i][8][2] - 1) / (matrix[i][8][1] - matrix[i][8][0])) * (600 - matrix[i][8][0])) + 1)) - 1\n",
    "        end = int(round((((matrix[i][8][2] - 1) / (matrix[i][8][1] - matrix[i][8][0])) * (400 - matrix[i][8][0])) + 1)) - 1\n",
    "    else:\n",
    "        sta = 0 # if the spectrum doesn't reach 600 cm-1 we cannot prove if the spectrum has enough intensity\n",
    "        raise Exception(\"The spectrum {} doesn't reach 600 cm-1\".format(spectra_names[1]))\n",
    "    # Now we check the intensity of the spectra in that region. If is not over 0.1 we discard the spectrum\n",
    "    if np.average(matrix[i][9][sta:end]) < 0.11:\n",
    "        bad_spectra.append(\"LI: \" + str(spectra_names[i]))\n",
    "        matrix[i] = None\n",
    "if (bad_spectra) == 1:\n",
    "    print(\"1 spectrum has been discarded because its low intensity\")\n",
    "else:\n",
    "    print(str(len(bad_spectra)) + \" spectra have been discarded because their low intensity\")"
   ]
  },
  {
   "cell_type": "code",
   "execution_count": 44,
   "metadata": {},
   "outputs": [
    {
     "name": "stdout",
     "output_type": "stream",
     "text": [
      "43041\n"
     ]
    }
   ],
   "source": [
    "print(len(matrix))"
   ]
  },
  {
   "cell_type": "markdown",
   "metadata": {},
   "source": [
    "### Spectra with abnormal background"
   ]
  },
  {
   "cell_type": "markdown",
   "metadata": {},
   "source": [
    "Bruker spectrometers sometimes measure spectra whose characteristics have been masked by a high-absorbance band covering the entire mid-infrared region. I do not know the origin of this band. I used to think it was due to the interaction of the ATR crystal with the metallic anvil, but now I'm inclined to think it's due to some vibration or shock during measurement. Sometimes these spectra pass the previous filters and it is necessary to remove them. To do it that we are going to do is to select the wavenumber with less signal from the mosquito (this wavenumber is usually 1900 cm<sup>-1</sup>) and look for outliers at that frequency."
   ]
  },
  {
   "cell_type": "code",
   "execution_count": 45,
   "metadata": {},
   "outputs": [
    {
     "name": "stdout",
     "output_type": "stream",
     "text": [
      "441 spectra have been discarded because they were distorted by the anvil\n"
     ]
    }
   ],
   "source": [
    "bs = 0 # counter for the number of spectra discarderd \n",
    "# we calculate the fences of the data set based in a value we can choose (in statistics 1.5 times\n",
    "# the interquartile range is the inner fence and 3 times is the outer fence)\n",
    "l = 2.5\n",
    "# We look for the point at 1900 cm-1 and add it to the list of intensities\n",
    "li = []\n",
    "for i in range(len(matrix)):\n",
    "    if matrix[i]: #to check if we have spectra\n",
    "        # Now one would spect that the spectrum will reach 3900 so the program will not check it out.\n",
    "        sta = int(round((((matrix[i][8][2] - 1) / (matrix[i][8][1] - matrix[i][8][0])) * (1900 - matrix[i][8][0])) + 1)) - 1\n",
    "        li.append(matrix[i][9][sta])\n",
    "q3, q1 = np.percentile(li, [75 ,25])\n",
    "ir = q3 - q1\n",
    "for i in range(len(matrix)):\n",
    "    if matrix[i]: #to check if we have spectra\n",
    "        sta = int(round((((matrix[i][8][2] - 1) / (matrix[i][8][1] - matrix[i][8][0])) * (1900 - matrix[i][8][0])) + 1)) - 1\n",
    "        if matrix[i][9][sta] > (l * ir + q3) or matrix[i][9][sta] < (q1 - l * ir):\n",
    "            bs +=1\n",
    "            bad_spectra.append(\"SA: \" + str(spectra_names[i]))\n",
    "            matrix[i] = None \n",
    "if (bs) == 1:\n",
    "    print(\"1 spectrum has been discarded because it was distorted by the anvil\")\n",
    "else:\n",
    "    print(str(bs) + \" spectra have been discarded because they were distorted by the anvil\")"
   ]
  },
  {
   "cell_type": "code",
   "execution_count": 46,
   "metadata": {},
   "outputs": [
    {
     "name": "stdout",
     "output_type": "stream",
     "text": [
      "43041\n"
     ]
    }
   ],
   "source": [
    "print(len(matrix))"
   ]
  },
  {
   "cell_type": "markdown",
   "metadata": {},
   "source": [
    "### Spectra with atmospheric interferences"
   ]
  },
  {
   "cell_type": "markdown",
   "metadata": {},
   "source": [
    "If the spectra were measured after the change of the beamsplitter or after installing the ATR and the background was not correctly measured, the spectra will be with the interference of the water and CO<sub>2</sub> spectra. In the case of water vapour, its IR spectrum has three bands with many narrow peaks that can appear as noise: one between 4000 and 3400 cm<sup>-1</sup>, other between 2200 and 1300 cm<sup>-1</sup> and the last one starts to appear below 800 cm<sup>-1</sup>. CO<sub>2</sub> has one strong band at 2345 cm<sup>-1</sup> and two smaller bands (unless you use a very fine resolution, you will not see its narrow peaks) at 3650 and 750 cm<sup>-1</sup>. Since some of this features appear in the same regions than the most interesting peaks from mosquitos, it is necessary to get rid of them. The following algorithms (originally part of a program named with another Iggy Pop song: ``Candy 0.0``) check the presence of these of these bands:"
   ]
  },
  {
   "cell_type": "code",
   "execution_count": 47,
   "metadata": {},
   "outputs": [
    {
     "name": "stdout",
     "output_type": "stream",
     "text": [
      "866 spectra have been discarded because have atmospheric interferences\n"
     ]
    }
   ],
   "source": [
    "bs = 0 # counter for the number of spectra discarderd\n",
    "mycollection = []\n",
    "# Now we define a function to calculate the R-squared coefficient of the fitting of our data to a polynomial\n",
    "def rs_pf(x, y, degree):\n",
    "    coeffs = np.polyfit(x, y, degree)\n",
    "    # r-squared\n",
    "    p = np.poly1d(coeffs)\n",
    "    # fit values, and mean\n",
    "    yhat = p(x)                         # or [p(z) for z in x]\n",
    "    ybar = np.sum(y)/len(y)          # or sum(y)/len(y)\n",
    "    ssreg = np.sum((yhat-ybar)**2)   # or sum([ (yihat - ybar)**2 for yihat in yhat])\n",
    "    sstot = np.sum((y - ybar)**2)    # or sum([ (yi - ybar)**2 for yi in y])\n",
    "    results = ssreg / sstot\n",
    "\n",
    "    return results\n",
    "\n",
    "# Here take that the section of the data between 3900 and 3500 cm-1 and check if it fits well to a 5th degree polinomial\n",
    "for i in range(len(matrix)):\n",
    "    if matrix[i]: #to check if we have spectra\n",
    "        # Now one would spect that the spectrum will reach 3900 so the program will not check it out.\n",
    "        sta = int(round((((matrix[i][8][2] - 1) / (matrix[i][8][1] - matrix[i][8][0])) * (3900 - matrix[i][8][0])) + 1)) - 1\n",
    "        end = int(round((((matrix[i][8][2] - 1) / (matrix[i][8][1] - matrix[i][8][0])) * (3500 - matrix[i][8][0])) + 1)) - 1\n",
    "        # we take that data:\n",
    "        yd = matrix[i][9][sta:end]\n",
    "        xd = list(range(len(yd)))\n",
    "        rs = rs_pf(xd,yd,5)\n",
    "        # And now, if the fitting is bad, we discard the spectrum\n",
    "        if rs < 0.96:\n",
    "            bs +=1\n",
    "            bad_spectra.append(\"AI: \" + str(spectra_names[i]))\n",
    "            matrix[i] = None\n",
    "if (bs) == 1:\n",
    "    print(\"1 spectrum has been discarded because has atmospheric interferences\")\n",
    "else:\n",
    "    print(str(bs) + \" spectra have been discarded because have atmospheric interferences\") "
   ]
  },
  {
   "cell_type": "markdown",
   "metadata": {},
   "source": [
    "## Number of mosquitoes after screening"
   ]
  },
  {
   "cell_type": "code",
   "execution_count": 48,
   "metadata": {},
   "outputs": [
    {
     "name": "stdout",
     "output_type": "stream",
     "text": [
      "\n",
      "Time course Field:\n",
      "                                          AA\n",
      "========================================================================================\n",
      "    01   02   03   04   05   06   07   08   09   10   11   12   13   14   15   16   17\n",
      "----------------------------------------------------------------------------------------\n",
      "BF   0    0   96  139   92    0    0    0   68   78   55    0    0    0  101   93  100\n",
      "GR   0    0    0    0  102   84   88    0    0    0   90  101   88    0    0    0   80\n",
      "SF  69   78   91  195  181  248  321  403  299  352  185  278  328  424  307  274  199\n",
      "UN   0    0    0    0    0    0    0    0    0    0    0    0    0    0    0    0    0\n",
      "\n",
      "Total AA : 5687\n",
      "                                          AC\n",
      "========================================================================================\n",
      "    01   02   03   04   05   06   07   08   09   10   11   12   13   14   15   16   17\n",
      "----------------------------------------------------------------------------------------\n",
      "BF   0    0   51   37    0    0    0    0    0    0   10   15   29   28    4   36   31\n",
      "GR   0    0    0    0    0    0    0    0    0    0    3   25   31   22   42   40   49\n",
      "SF 101  102   96   71    0    0    0    0    0    0   11    2   42   38   38   35   38\n",
      "UN   0    0    0    0    0    0    0    0    0    0    0    0    0    0    0    0    0\n",
      "\n",
      "Total AC : 1027\n",
      "                                          AG\n",
      "========================================================================================\n",
      "    01   02   03   04   05   06   07   08   09   10   11   12   13   14   15   16   17\n",
      "----------------------------------------------------------------------------------------\n",
      "BF   0    0  206  213  213  246  187  127  118   30   41   21   39   53   59   44   41\n",
      "GR   0    0    0    0    0    0    0    0    0   41   77   42   39   48   51   42   44\n",
      "SF 204  208    0    0    0    0    0    0    0   41   87   42   37   89   85   45   44\n",
      "UN   0    0    0    0    0    0    0    0    0    0    0    0    0    0    0    0    0\n",
      "\n",
      "Total AG : 2904\n",
      "                                                                                        Total: 9618\n",
      "Time course Lab:\n",
      "                                          AA\n",
      "========================================================================================\n",
      "    01   02   03   04   05   06   07   08   09   10   11   12   13   14   15   16   17\n",
      "----------------------------------------------------------------------------------------\n",
      "BF  61    0  142  101  139  101  154   99  153  110  185   95   32   97  118  100  140\n",
      "GR   0    0   57    0  162  101  143   95  157  101  170  152  195   93  134  117  181\n",
      "SF 189  101  159  204  284  288  394  490  597  498  454  396  540  509  501  532  397\n",
      "UN   0    0    0    0    0    0    0    0    0    0    0    0    0    0    0    0    0\n",
      "\n",
      "Total AA : 10218\n",
      "                                          AC\n",
      "========================================================================================\n",
      "    01   02   03   04   05   06   07   08   09   10   11   12   13   14   15   16   17\n",
      "----------------------------------------------------------------------------------------\n",
      "BF   0    0   78   85  127   98   80   78   61   76   77   77   96   79   84  107  121\n",
      "GR   0    0    0    0   62   95   82   39   82   90   86   89   76   71   80   81  111\n",
      "SF 220  185  137  127   91  136  136   85  131  120  126  116  162  113  134  124  209\n",
      "UN   0    0    0    0    0    0    0    0    0    0    0    0    0    0   14    0    0\n",
      "\n",
      "Total AC : 4734\n",
      "                                          AG\n",
      "========================================================================================\n",
      "    01   02   03   04   05   06   07   08   09   10   11   12   13   14   15   16   17\n",
      "----------------------------------------------------------------------------------------\n",
      "BF   0  134  171  177  179  197  137  173  177  178  180  172  172  181  172  183  168\n",
      "GR   0    0    0   48  192  186  146  186  182  191  181  324  282  130  173  201  184\n",
      "SF 411  342  246  307  288  403  451  567  554  496  496  432  450  538  526  520  502\n",
      "UN   0    0    0    0    0    0    0    0    0    0    0    0    0    0    0    0    0\n",
      "\n",
      "Total AG : 12886\n",
      "                                                                                        Total: 27838\n",
      "Validation Field:\n",
      "                                          AA\n",
      "========================================================================================\n",
      "    01   02   03   04   05   06   07   08   09   10   11   12   13   14   15   16   17\n",
      "----------------------------------------------------------------------------------------\n",
      "BF   0    0    0    0    0    0    0    0    0    0    0    0    0    0    0    0    0\n",
      "GR   0    0    0    0    0    0    0    0    0    0    0    0    0    0    0    0    0\n",
      "SF   0    0    0    0    0    0    0    0    0    0    0    0    0    0    0    0    0\n",
      "UN 108    0    0   99  126   94   98   99  112   98  101  116  104   97   94    0    0\n",
      "\n",
      "Total AA : 1346\n",
      "                                          AC\n",
      "========================================================================================\n",
      "    01   02   03   04   05   06   07   08   09   10   11   12   13   14   15   16   17\n",
      "----------------------------------------------------------------------------------------\n",
      "BF   0    0    0    0    0    0    0    0    0    0    0    0    0    0    0    0    0\n",
      "GR   0    0    0    0    0    0    0    0    0    0    0    0    0    0    0    0    0\n",
      "SF   0    0    0    0    0    0    0    0    0    0    0    0    0    0    0    0    0\n",
      "UN  59    0    0   60    0    0   57    0    0   52    0    0    0    0   20    0    0\n",
      "\n",
      "Total AC : 248\n",
      "                                          AG\n",
      "========================================================================================\n",
      "    01   02   03   04   05   06   07   08   09   10   11   12   13   14   15   16   17\n",
      "----------------------------------------------------------------------------------------\n",
      "BF   0    0    0    8    0    0    0    0    0    0    0    0    0    0    0    0    0\n",
      "GR   0    0    0    0    0    0    0    0    0    0    0    0    0    0    0    0    0\n",
      "SF   0    0    0    0    0    0    0    0    0    0    0    0    0    0    0    0    0\n",
      "UN 174    0    0  148   85  102  156  119  105  121   89   89   74   85  146   90  100\n",
      "\n",
      "Total AG : 1691\n",
      "                                                                                        Total: 3285\n",
      "\n",
      "========================================================================================\n",
      "|                             Total mosquitoes: 40741                                  |\n",
      "========================================================================================\n"
     ]
    }
   ],
   "source": [
    "mos_acc = []\n",
    "for j in range(len(list_rear)):\n",
    "    mos_acc.append(np.zeros((len(list_species),len(list_status),len(list_ages)),dtype=int)) # We create an empty table for the \n",
    "    for i in range(len(matrix)):\n",
    "        if matrix[i]:\n",
    "            if matrix[i][6] == list_rear[j]:\n",
    "                x = list_species.index(matrix[i][0])\n",
    "                y = list_status.index(matrix[i][2])\n",
    "                z = list_ages.index(matrix[i][1])\n",
    "                mos_acc[j][x][y][z] += 1\n",
    "            \n",
    "mos_acc_2 = [np.zeros((len(list_species),len(list_status))) for i in range(3)]\n",
    "for i in range(len(mos_acc)):\n",
    "    for j in range(mos_acc[0].shape[0]):\n",
    "        for k in range(mos_acc[0].shape[1]):\n",
    "            mos_acc_2[i][j][k] = np.sum(mos_acc[i][j][k])\n",
    "            \n",
    "# We show it in a beautiful way\n",
    "width = ((len(list_ages) + 1) * 5) - 2\n",
    "print()\n",
    "for j in range(len(list_rear)):\n",
    "    if list_rear[j] == \"TF\":\n",
    "        nare = \"Time course Field:\"\n",
    "    elif list_rear[j] == \"TL\":\n",
    "        nare = \"Time course Lab:\"\n",
    "    else:\n",
    "        nare = \"Validation Field:\"\n",
    "    print(nare)\n",
    "    for i in range(mos_acc[j].shape[0]):\n",
    "        print(\" \" * (round(width/2) -2) + list_species[i])\n",
    "        print(\"=\" * width)\n",
    "        print(\"    \"+'   '.join(map(str, list_ages))) \n",
    "        print(\"-\" * width)\n",
    "        for k in range(mos_acc[j].shape[1]):\n",
    "            print(list_status[k] + \" \" + \"  \".join([\"%3.0f\" % dx for dx in mos_acc[j][i][k]]))\n",
    "        print()\n",
    "        print(('Total '+list_species[i]+' : '+str(\"%3.0f\" % np.sum(mos_acc_2[j][i]))))\n",
    "    print(\" \" * width + \"Total: \" + str(np.sum(mos_acc[j])))\n",
    "print()\n",
    "print(\"=\" * width)\n",
    "print(\"|\" + \" \" * (round(width/3)) +   \"Total mosquitoes: \" + str(np.sum(mos_acc)) + \" \" * (round(width/3)+5) + \"|\")\n",
    "print(\"=\" * width)"
   ]
  },
  {
   "cell_type": "markdown",
   "metadata": {},
   "source": [
    "## Selection of the wavenumbers and data extraction"
   ]
  },
  {
   "cell_type": "markdown",
   "metadata": {},
   "source": [
    "Now, we proceed to finish the task extracting the intensity of the remaining spectra at the wavenumbers that we want.  We just need to indicate those wavenumbers at the next list (we have to select always more than one wavenumber). If we want to extract a range only write two numbers, the starting wavenumber and the ending wavenumber. "
   ]
  },
  {
   "cell_type": "code",
   "execution_count": 49,
   "metadata": {},
   "outputs": [],
   "source": [
    "wns = [3800, 550]"
   ]
  },
  {
   "cell_type": "markdown",
   "metadata": {},
   "source": [
    "This algorithm corrects the wavenumbers selected in case they contain wavenumbers that are not in our spectra range"
   ]
  },
  {
   "cell_type": "code",
   "execution_count": 50,
   "metadata": {},
   "outputs": [],
   "source": [
    "# it is very important to have the wavenumbers sorted from higher to lower\n",
    "wns.sort(reverse = True)\n",
    "\n",
    "# Now we check the lowest and highest measured wavenumbers \n",
    "a = []\n",
    "b = []\n",
    "for i in range(len(matrix)):\n",
    "    if matrix[i]:\n",
    "        a.append(matrix[i][8][0])\n",
    "        b.append(matrix[i][8][1])\n",
    "a = max(a)\n",
    "b = min(b)\n",
    "\n",
    "# If only two peaks remain, einselechta prevents the algorithm from interpreting them as a range.\n",
    "if len(wns) == 2:\n",
    "    einselechta = False\n",
    "else:\n",
    "    einselechta = True\n",
    "\n",
    "# Now we correct the wavenumbers selected that are bigger than our highest measured wavenumber\n",
    "if wns[0] > a:\n",
    "    if len(wns) == 2:\n",
    "        wns[0] = int(a)\n",
    "    else: \n",
    "        while wns[0] > a:\n",
    "            wns.pop(0)\n",
    "        if len(wns) == 1 or wns[0] < b:\n",
    "            wns.insert(0, int(a))\n",
    "    \n",
    "# And we do the same with the smaller wavenumbers:\n",
    "if wns[-1] < b:\n",
    "    if len(wns) == 2:\n",
    "        wns[-1] = int(b)\n",
    "    else:\n",
    "        while wns[-1] < b:\n",
    "            wns.pop()\n",
    "            if len(wns) == 1:\n",
    "                wns.append(int(b))   "
   ]
  },
  {
   "cell_type": "markdown",
   "metadata": {},
   "source": [
    "We can see in a spectrum the wavenumbers selected"
   ]
  },
  {
   "cell_type": "code",
   "execution_count": 51,
   "metadata": {},
   "outputs": [
    {
     "data": {
      "image/png": "[encoded data removed]",
      "text/plain": [
       "<Figure size 1008x504 with 1 Axes>"
      ]
     },
     "metadata": {
      "needs_background": "light"
     },
     "output_type": "display_data"
    }
   ],
   "source": [
    "# We select a random spectrum:\n",
    "n = np.random.randint(0,len(matrix)-1)\n",
    "while not matrix[n]:\n",
    "    n = np.random.randint(0,len(matrix)-1)\n",
    "\n",
    "# we prepare the data\n",
    "a = matrix[n][8][0]\n",
    "b = matrix[n][8][1]\n",
    "c = matrix[n][8][2]\n",
    "xd = [a - x/c * (a-b) for x in range(c)]\n",
    "yd = matrix[n][9]\n",
    "\n",
    "# we draw the plot\n",
    "plt.figure(figsize=(14,7))\n",
    "plt.plot(xd,yd)\n",
    "plt.xlim(a, b)\n",
    "\n",
    "# and the selected wavenumbers\n",
    "if len(wns) == 2 and einselechta == False:\n",
    "    plt.axvspan(wns[0], wns[1], facecolor='papayawhip', alpha=0.5)\n",
    "else:\n",
    "    for i in wns:\n",
    "        plt.axvline(x=i, c='black', lw=1)    \n",
    "        \n",
    "# labels\n",
    "plt.xlabel('Wavenumber')\n",
    "plt.ylabel('Absorbance')\n",
    "if len(wns) == 2 and einselechta == False:\n",
    "    plt.title('Selected Range')\n",
    "else:\n",
    "    plt.title('Selected Wavenumbers')\n",
    "\n",
    "plt.show()"
   ]
  },
  {
   "cell_type": "markdown",
   "metadata": {},
   "source": [
    "## Choose your own matrix"
   ]
  },
  {
   "cell_type": "markdown",
   "metadata": {},
   "source": [
    "Now it is the time to export the data. Since *Loco mosquito* can deal with a lot of data, here is an algorithm to select only the spectra that we want for each variable. If you want to select all the characteristics of a variable, write ``\"all\"``"
   ]
  },
  {
   "cell_type": "code",
   "execution_count": 52,
   "metadata": {},
   "outputs": [],
   "source": [
    "sel_species = \"all\"\n",
    "sel_ages = \"all\"\n",
    "sel_status = \"all\"\n",
    "sel_country = \"all\"\n",
    "sel_rear = \"all\""
   ]
  },
  {
   "cell_type": "markdown",
   "metadata": {},
   "source": [
    "And now, the following algorithm will extract from the spectra the desired intensities and the desired characteristics:"
   ]
  },
  {
   "cell_type": "code",
   "execution_count": 56,
   "metadata": {},
   "outputs": [
    {
     "name": "stdout",
     "output_type": "stream",
     "text": [
      "43041\n"
     ]
    }
   ],
   "source": [
    "print(len(matrix))"
   ]
  },
  {
   "cell_type": "code",
   "execution_count": 59,
   "metadata": {},
   "outputs": [
    {
     "name": "stderr",
     "output_type": "stream",
     "text": [
      "100%|██████████| 43041/43041 [01:54<00:00, 376.49it/s]\n"
     ]
    },
    {
     "name": "stdout",
     "output_type": "stream",
     "text": [
      "This last process has lasted 114.402 s. The new matrix cotains 40741 spectra.\n"
     ]
    }
   ],
   "source": [
    "# We start the timer\n",
    "a = time.time()\n",
    "# We define the variable that will contain the final data\n",
    "fida = []\n",
    "csc = 0\n",
    "ssel = 0\n",
    "# If we have selected a range of wavenumbers, now it is time to change it into discrete wavenumbers\n",
    "# First, we look for the boundaries of the data\n",
    "for i in range(len(matrix)):\n",
    "    if matrix[i]:\n",
    "        kk = i\n",
    "        break\n",
    "if len(wns) == 2 and einselechta == False:\n",
    "    resolution = 2\n",
    "    if matrix[kk][8][0] < wns[0]:\n",
    "        wns[0] = int(matrix[kk][8][0])\n",
    "    if matrix[kk][8][1] > wns[-1]:\n",
    "        wns[-1] = int(matrix[kk][8][-1])+1\n",
    "    wns = list(range(wns[0],wns[1],-resolution))\n",
    "\n",
    "# And start the algorithm to extract the info\n",
    "for i in tqdm(matrix):\n",
    "    # If that item exist\n",
    "    if i:\n",
    "        # If the item has the selected characteristics\n",
    "        if sel_species == \"all\" or sel_species == \"All\" or sel_species == \"ALL\":\n",
    "            sel_species = list_species\n",
    "        if sel_ages == \"all\" or sel_ages == \"All\" or sel_ages == \"ALL\":\n",
    "            sel_ages = list_ages\n",
    "        if sel_status == \"all\" or sel_status == \"All\" or sel_status == \"ALL\":\n",
    "            sel_status = list_status\n",
    "        if sel_country == \"all\" or sel_country == \"All\" or sel_country == \"ALL\":\n",
    "            sel_country = list_country\n",
    "        if sel_rear == \"all\" or sel_rear == \"All\" or sel_rear == \"ALL\":\n",
    "            sel_rear = list_rear\n",
    "        if i[0] in sel_species and i[1] in sel_ages and i[2] in sel_status and i[3] in sel_country and i[6] in sel_rear:\n",
    "            # we count the number of spectra that are removed because are too short for the range of wavenumbers selected\n",
    "            if i[8][0] >= wns[0] and i[8][1] <= wns[-1]:\n",
    "                pos = []\n",
    "                for j in wns:\n",
    "                    pos.append(int(round((((i[8][2] - 1) / (i[8][1] - i[8][0])) * (j - i[8][0])) + 1)) - 1)\n",
    "                lint = []\n",
    "                for k in pos:\n",
    "                    lint.append(i[9][k])\n",
    "                fida.append([i[0], i[1], i[2], i[3], str(int(i[4])), str(int(i[5])), i[6], str(int(i[7]))] + lint)\n",
    "                ssel += 1\n",
    "            else:\n",
    "                csc += 1\n",
    "fida = sorted(fida)\n",
    "fida.insert(0,[\"Species\", \"Age\", \"Status\", \"Country\", \"ColDay\", \"MesDay\", \"RearCnd\", \"StoTime\"] + wns)\n",
    "if (csc) == 0:\n",
    "    pass\n",
    "elif (csc) == 1:\n",
    "    print(\"1 spectrum has been discarded because was shorter than the selected wavenumbers\")\n",
    "else:\n",
    "    print(str(csc) + \" spectra have been discarded because were shorter than the selected wavenumbers\")  \n",
    "b = time.time()\n",
    "print(\"This last process has lasted \" + str(round(b-a,3)) + \" s. The new matrix cotains \" + str(ssel) + \" spectra.\")"
   ]
  },
  {
   "cell_type": "markdown",
   "metadata": {},
   "source": [
    "## Exporting the matrix"
   ]
  },
  {
   "cell_type": "markdown",
   "metadata": {},
   "source": [
    "Now we export the matrix with the info in the same folder where the data were collected"
   ]
  },
  {
   "cell_type": "code",
   "execution_count": 60,
   "metadata": {},
   "outputs": [],
   "source": [
    "with open(spectra_path.parent / Path(\"Mosquitoes_w_dates.dat\"), 'w') as file:\n",
    "    sc = csv.writer(file, delimiter='\\t')\n",
    "    for i in fida:\n",
    "            sc.writerow(i)"
   ]
  },
  {
   "cell_type": "code",
   "execution_count": 61,
   "metadata": {},
   "outputs": [
    {
     "name": "stdout",
     "output_type": "stream",
     "text": [
      "/home/josh/Documents/Mosquito_Project/New_Data/Data\n"
     ]
    }
   ],
   "source": [
    "print(spectra_path.parent)"
   ]
  },
  {
   "cell_type": "code",
   "execution_count": null,
   "metadata": {},
   "outputs": [],
   "source": []
  }
 ],
 "metadata": {
  "kernelspec": {
   "display_name": "Python 3",
   "language": "python",
   "name": "python3"
  },
  "language_info": {
   "codemirror_mode": {
    "name": "ipython",
    "version": 3
   },
   "file_extension": ".py",
   "mimetype": "text/x-python",
   "name": "python",
   "nbconvert_exporter": "python",
   "pygments_lexer": "ipython3",
   "version": "3.7.4"
  }
 },
 "nbformat": 4,
 "nbformat_minor": 2
}
